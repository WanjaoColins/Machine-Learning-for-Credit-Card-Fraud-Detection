{
 "cells": [
  {
   "cell_type": "markdown",
   "metadata": {},
   "source": [
    "![Image header](Fraud%20Image.png)"
   ]
  },
  {
   "cell_type": "markdown",
   "metadata": {},
   "source": [
    "**Authors:** Janet Atunga, Colins Wanjao, Anita Bosibori, Ruth Kamau, Bernard Kinyua, Joyleen Cherono\n",
    "\n",
    "**Date Created:** 06-02-2024\n",
    "\n",
    "**Discipline:** DS-PT05"
   ]
  },
  {
   "cell_type": "markdown",
   "metadata": {},
   "source": [
    "<h1 style=\"background-color: #cfe2f3; padding: 10px; color: black;\"><b>Leveraging Machine Learning For Credit Card Fraud Detection</b></h1>"
   ]
  },
  {
   "cell_type": "markdown",
   "metadata": {},
   "source": [
    "## Executive Summary"
   ]
  },
  {
   "cell_type": "markdown",
   "metadata": {},
   "source": [
    "## Business Problem\n",
    "\n",
    "In today's digital economy, fraudulent transactions represent a significant threat to financial institutions and their customers alike. Despite the implementation of various security measures, credit card fraud remains a persistent problem, resulting in substantial financial losses and eroded trust. According to a [recent article](https://www.statista.com/statistics/1394119/global-card-fraud-losses/), global card fraud losses have been on the rise, underscoring the urgency of addressing this issue.\n",
    "\n",
    "The challenge lies in effectively detecting fraudulent transactions in real-time while minimizing false positives to ensure a seamless customer experience. Therefore, the business problem at hand is to develop an accurate and efficient machine learning model capable of identifying fraudulent credit card transactions with a high level of precision. By doing so, financial institutions can enable timely intervention and mitigation measures, thereby safeguarding their assets and preserving customer trust."
   ]
  },
  {
   "cell_type": "markdown",
   "metadata": {},
   "source": [
    "## Research Questions\n",
    "\n",
    "1. Feature Importance: What are the most significant features contributing to the detection of fraudulent credit card transactions? Understanding the key indicators of fraud can inform feature engineering efforts and enhance model performance.\n",
    "\n",
    "2. Model Comparison: How do different machine learning algorithms perform in detecting fraudulent transactions? By comparing the performance of various models, we can identify the most effective approach for addressing the business problem at hand."
   ]
  },
  {
   "cell_type": "markdown",
   "metadata": {},
   "source": [
    "## Data Understanding"
   ]
  },
  {
   "cell_type": "code",
   "execution_count": 6,
   "metadata": {},
   "outputs": [
    {
     "name": "stdout",
     "output_type": "stream",
     "text": [
      "Found existing installation: scikit-learn 1.3.2\n",
      "Uninstalling scikit-learn-1.3.2:\n",
      "  Successfully uninstalled scikit-learn-1.3.2\n",
      "Collecting scikit-learn\n",
      "  Using cached scikit_learn-1.3.2-cp38-cp38-win_amd64.whl (9.3 MB)\n",
      "Requirement already satisfied: scipy>=1.5.0 in c:\\users\\user\\anaconda3\\envs\\learn-env\\lib\\site-packages (from scikit-learn) (1.5.0)\n",
      "Requirement already satisfied: threadpoolctl>=2.0.0 in c:\\users\\user\\anaconda3\\envs\\learn-env\\lib\\site-packages (from scikit-learn) (2.1.0)\n",
      "Requirement already satisfied: joblib>=1.1.1 in c:\\users\\user\\anaconda3\\envs\\learn-env\\lib\\site-packages (from scikit-learn) (1.3.2)\n",
      "Requirement already satisfied: numpy<2.0,>=1.17.3 in c:\\users\\user\\anaconda3\\envs\\learn-env\\lib\\site-packages (from scikit-learn) (1.18.5)\n",
      "Installing collected packages: scikit-learn\n",
      "Successfully installed scikit-learn-1.3.2\n"
     ]
    }
   ],
   "source": [
    "! pip uninstall scikit-learn -y\n",
    "\n",
    "! pip install scikit-learn \n"
   ]
  },
  {
   "cell_type": "code",
   "execution_count": 7,
   "metadata": {},
   "outputs": [],
   "source": [
    "# Import Standard Libraries\n",
    "\n",
    "import pandas as pd \n",
    "import numpy as np \n",
    "import matplotlib.pyplot as plt \n",
    "%matplotlib inline\n",
    "import seaborn as sns\n",
    "\n",
    "\n",
    "# Import classifier libraries\n",
    "\n",
    "from sklearn.linear_model import LogisticRegression\n",
    "from sklearn.neighbors import KNeighborsClassifier\n",
    "from sklearn.tree import DecisionTreeClassifier\n",
    "from sklearn.ensemble import RandomForestClassifier\n",
    "\n",
    "\n",
    "# Other libraries\n",
    "\n",
    "from sklearn.model_selection import train_test_split, cross_val_score\n",
    "from imblearn.over_sampling import SMOTE\n",
    "from sklearn.pipeline import Pipeline\n",
    "from sklearn.preprocessing import StandardScaler\n",
    "from sklearn.model_selection import RepeatedStratifiedKFold, GridSearchCV\n",
    "from sklearn.metrics import roc_auc_score, auc\n",
    "from sklearn.metrics import roc_curve, confusion_matrix, classification_report\n",
    "\n",
    "import warnings\n",
    "warnings.filterwarnings(\"ignore\")"
   ]
  },
  {
   "cell_type": "code",
   "execution_count": 8,
   "metadata": {},
   "outputs": [
    {
     "name": "stdout",
     "output_type": "stream",
     "text": [
      "1.3.2\n"
     ]
    }
   ],
   "source": [
    "import sklearn\n",
    "print(sklearn.__version__)"
   ]
  },
  {
   "cell_type": "markdown",
   "metadata": {},
   "source": [
    "### Loading and Inspecting Data Set"
   ]
  },
  {
   "cell_type": "code",
   "execution_count": 9,
   "metadata": {},
   "outputs": [],
   "source": [
    "# Loading dataset\n",
    "\n",
    "df = pd.read_csv('creditcardFraud.csv', index_col=0)"
   ]
  },
  {
   "cell_type": "code",
   "execution_count": 10,
   "metadata": {},
   "outputs": [
    {
     "data": {
      "text/html": [
       "<div>\n",
       "<style scoped>\n",
       "    .dataframe tbody tr th:only-of-type {\n",
       "        vertical-align: middle;\n",
       "    }\n",
       "\n",
       "    .dataframe tbody tr th {\n",
       "        vertical-align: top;\n",
       "    }\n",
       "\n",
       "    .dataframe thead th {\n",
       "        text-align: right;\n",
       "    }\n",
       "</style>\n",
       "<table border=\"1\" class=\"dataframe\">\n",
       "  <thead>\n",
       "    <tr style=\"text-align: right;\">\n",
       "      <th></th>\n",
       "      <th>Time</th>\n",
       "      <th>V1</th>\n",
       "      <th>V2</th>\n",
       "      <th>V3</th>\n",
       "      <th>V4</th>\n",
       "      <th>V5</th>\n",
       "      <th>V6</th>\n",
       "      <th>V7</th>\n",
       "      <th>V8</th>\n",
       "      <th>V9</th>\n",
       "      <th>...</th>\n",
       "      <th>V21</th>\n",
       "      <th>V22</th>\n",
       "      <th>V23</th>\n",
       "      <th>V24</th>\n",
       "      <th>V25</th>\n",
       "      <th>V26</th>\n",
       "      <th>V27</th>\n",
       "      <th>V28</th>\n",
       "      <th>Amount</th>\n",
       "      <th>Class</th>\n",
       "    </tr>\n",
       "  </thead>\n",
       "  <tbody>\n",
       "    <tr>\n",
       "      <th>60980</th>\n",
       "      <td>49591.0</td>\n",
       "      <td>-1.078058</td>\n",
       "      <td>0.472978</td>\n",
       "      <td>0.872587</td>\n",
       "      <td>-1.693499</td>\n",
       "      <td>-0.473819</td>\n",
       "      <td>-1.394841</td>\n",
       "      <td>0.390493</td>\n",
       "      <td>0.208516</td>\n",
       "      <td>-1.746987</td>\n",
       "      <td>...</td>\n",
       "      <td>-0.077302</td>\n",
       "      <td>-0.601560</td>\n",
       "      <td>0.095988</td>\n",
       "      <td>0.334340</td>\n",
       "      <td>0.093190</td>\n",
       "      <td>-0.666101</td>\n",
       "      <td>0.158345</td>\n",
       "      <td>0.063077</td>\n",
       "      <td>56.0</td>\n",
       "      <td>0</td>\n",
       "    </tr>\n",
       "    <tr>\n",
       "      <th>259679</th>\n",
       "      <td>159224.0</td>\n",
       "      <td>0.140654</td>\n",
       "      <td>0.614854</td>\n",
       "      <td>-0.811093</td>\n",
       "      <td>0.210524</td>\n",
       "      <td>1.090949</td>\n",
       "      <td>-1.436960</td>\n",
       "      <td>1.488835</td>\n",
       "      <td>-0.521849</td>\n",
       "      <td>-0.448717</td>\n",
       "      <td>...</td>\n",
       "      <td>0.364569</td>\n",
       "      <td>1.180486</td>\n",
       "      <td>-0.027099</td>\n",
       "      <td>0.042148</td>\n",
       "      <td>-0.693194</td>\n",
       "      <td>-0.117583</td>\n",
       "      <td>0.242936</td>\n",
       "      <td>0.270430</td>\n",
       "      <td>49.0</td>\n",
       "      <td>0</td>\n",
       "    </tr>\n",
       "    <tr>\n",
       "      <th>102727</th>\n",
       "      <td>68332.0</td>\n",
       "      <td>1.492525</td>\n",
       "      <td>-0.937371</td>\n",
       "      <td>0.733062</td>\n",
       "      <td>-1.341682</td>\n",
       "      <td>-1.638440</td>\n",
       "      <td>-0.891609</td>\n",
       "      <td>-1.008324</td>\n",
       "      <td>-0.229074</td>\n",
       "      <td>-1.878821</td>\n",
       "      <td>...</td>\n",
       "      <td>-0.355095</td>\n",
       "      <td>-0.638729</td>\n",
       "      <td>0.164058</td>\n",
       "      <td>0.365213</td>\n",
       "      <td>0.160463</td>\n",
       "      <td>-0.414044</td>\n",
       "      <td>0.047972</td>\n",
       "      <td>0.032811</td>\n",
       "      <td>18.6</td>\n",
       "      <td>0</td>\n",
       "    </tr>\n",
       "    <tr>\n",
       "      <th>239078</th>\n",
       "      <td>149947.0</td>\n",
       "      <td>-0.239639</td>\n",
       "      <td>1.464496</td>\n",
       "      <td>-1.486780</td>\n",
       "      <td>-0.021256</td>\n",
       "      <td>-0.058483</td>\n",
       "      <td>-1.380374</td>\n",
       "      <td>0.262271</td>\n",
       "      <td>0.503499</td>\n",
       "      <td>-0.224797</td>\n",
       "      <td>...</td>\n",
       "      <td>0.371395</td>\n",
       "      <td>0.894852</td>\n",
       "      <td>-0.052035</td>\n",
       "      <td>-0.185209</td>\n",
       "      <td>-0.244038</td>\n",
       "      <td>-0.152268</td>\n",
       "      <td>-0.322308</td>\n",
       "      <td>-0.117872</td>\n",
       "      <td>22.5</td>\n",
       "      <td>0</td>\n",
       "    </tr>\n",
       "    <tr>\n",
       "      <th>152955</th>\n",
       "      <td>97655.0</td>\n",
       "      <td>2.067000</td>\n",
       "      <td>0.396577</td>\n",
       "      <td>-2.528664</td>\n",
       "      <td>0.231966</td>\n",
       "      <td>1.029264</td>\n",
       "      <td>-1.260592</td>\n",
       "      <td>0.644661</td>\n",
       "      <td>-0.469112</td>\n",
       "      <td>1.178047</td>\n",
       "      <td>...</td>\n",
       "      <td>-0.015175</td>\n",
       "      <td>0.257566</td>\n",
       "      <td>-0.031586</td>\n",
       "      <td>0.653762</td>\n",
       "      <td>0.392559</td>\n",
       "      <td>0.145512</td>\n",
       "      <td>-0.109600</td>\n",
       "      <td>-0.058973</td>\n",
       "      <td>16.0</td>\n",
       "      <td>0</td>\n",
       "    </tr>\n",
       "  </tbody>\n",
       "</table>\n",
       "<p>5 rows × 31 columns</p>\n",
       "</div>"
      ],
      "text/plain": [
       "            Time        V1        V2        V3        V4        V5        V6  \\\n",
       "60980    49591.0 -1.078058  0.472978  0.872587 -1.693499 -0.473819 -1.394841   \n",
       "259679  159224.0  0.140654  0.614854 -0.811093  0.210524  1.090949 -1.436960   \n",
       "102727   68332.0  1.492525 -0.937371  0.733062 -1.341682 -1.638440 -0.891609   \n",
       "239078  149947.0 -0.239639  1.464496 -1.486780 -0.021256 -0.058483 -1.380374   \n",
       "152955   97655.0  2.067000  0.396577 -2.528664  0.231966  1.029264 -1.260592   \n",
       "\n",
       "              V7        V8        V9  ...       V21       V22       V23  \\\n",
       "60980   0.390493  0.208516 -1.746987  ... -0.077302 -0.601560  0.095988   \n",
       "259679  1.488835 -0.521849 -0.448717  ...  0.364569  1.180486 -0.027099   \n",
       "102727 -1.008324 -0.229074 -1.878821  ... -0.355095 -0.638729  0.164058   \n",
       "239078  0.262271  0.503499 -0.224797  ...  0.371395  0.894852 -0.052035   \n",
       "152955  0.644661 -0.469112  1.178047  ... -0.015175  0.257566 -0.031586   \n",
       "\n",
       "             V24       V25       V26       V27       V28  Amount  Class  \n",
       "60980   0.334340  0.093190 -0.666101  0.158345  0.063077    56.0      0  \n",
       "259679  0.042148 -0.693194 -0.117583  0.242936  0.270430    49.0      0  \n",
       "102727  0.365213  0.160463 -0.414044  0.047972  0.032811    18.6      0  \n",
       "239078 -0.185209 -0.244038 -0.152268 -0.322308 -0.117872    22.5      0  \n",
       "152955  0.653762  0.392559  0.145512 -0.109600 -0.058973    16.0      0  \n",
       "\n",
       "[5 rows x 31 columns]"
      ]
     },
     "execution_count": 10,
     "metadata": {},
     "output_type": "execute_result"
    }
   ],
   "source": [
    "# Previewing the dataset\n",
    "\n",
    "df.head(5)"
   ]
  },
  {
   "cell_type": "code",
   "execution_count": 11,
   "metadata": {},
   "outputs": [
    {
     "data": {
      "text/plain": [
       "(80000, 31)"
      ]
     },
     "execution_count": 11,
     "metadata": {},
     "output_type": "execute_result"
    }
   ],
   "source": [
    "# Investigating the size of our DataFrame \n",
    "\n",
    "df.shape"
   ]
  },
  {
   "cell_type": "markdown",
   "metadata": {},
   "source": [
    "- The CreditCardFraud data set has a total of 80,000 rows and 31 columns. "
   ]
  },
  {
   "cell_type": "code",
   "execution_count": 12,
   "metadata": {},
   "outputs": [
    {
     "name": "stdout",
     "output_type": "stream",
     "text": [
      "<class 'pandas.core.frame.DataFrame'>\n",
      "Int64Index: 80000 entries, 60980 to 271634\n",
      "Data columns (total 31 columns):\n",
      " #   Column  Non-Null Count  Dtype  \n",
      "---  ------  --------------  -----  \n",
      " 0   Time    80000 non-null  float64\n",
      " 1   V1      80000 non-null  float64\n",
      " 2   V2      80000 non-null  float64\n",
      " 3   V3      80000 non-null  float64\n",
      " 4   V4      80000 non-null  float64\n",
      " 5   V5      80000 non-null  float64\n",
      " 6   V6      80000 non-null  float64\n",
      " 7   V7      80000 non-null  float64\n",
      " 8   V8      80000 non-null  float64\n",
      " 9   V9      80000 non-null  float64\n",
      " 10  V10     80000 non-null  float64\n",
      " 11  V11     80000 non-null  float64\n",
      " 12  V12     80000 non-null  float64\n",
      " 13  V13     80000 non-null  float64\n",
      " 14  V14     80000 non-null  float64\n",
      " 15  V15     80000 non-null  float64\n",
      " 16  V16     80000 non-null  float64\n",
      " 17  V17     80000 non-null  float64\n",
      " 18  V18     80000 non-null  float64\n",
      " 19  V19     80000 non-null  float64\n",
      " 20  V20     80000 non-null  float64\n",
      " 21  V21     80000 non-null  float64\n",
      " 22  V22     80000 non-null  float64\n",
      " 23  V23     80000 non-null  float64\n",
      " 24  V24     80000 non-null  float64\n",
      " 25  V25     80000 non-null  float64\n",
      " 26  V26     80000 non-null  float64\n",
      " 27  V27     80000 non-null  float64\n",
      " 28  V28     80000 non-null  float64\n",
      " 29  Amount  80000 non-null  float64\n",
      " 30  Class   80000 non-null  int64  \n",
      "dtypes: float64(30), int64(1)\n",
      "memory usage: 19.5 MB\n"
     ]
    }
   ],
   "source": [
    "# pulling out the metadata of our dataframe\n",
    "\n",
    "df.info()"
   ]
  },
  {
   "cell_type": "code",
   "execution_count": 13,
   "metadata": {},
   "outputs": [
    {
     "data": {
      "text/plain": [
       "Index(['Time', 'V1', 'V2', 'V3', 'V4', 'V5', 'V6', 'V7', 'V8', 'V9', 'V10',\n",
       "       'V11', 'V12', 'V13', 'V14', 'V15', 'V16', 'V17', 'V18', 'V19', 'V20',\n",
       "       'V21', 'V22', 'V23', 'V24', 'V25', 'V26', 'V27', 'V28', 'Amount',\n",
       "       'Class'],\n",
       "      dtype='object')"
      ]
     },
     "execution_count": 13,
     "metadata": {},
     "output_type": "execute_result"
    }
   ],
   "source": [
    "# Investigate the columns of our data set\n",
    "\n",
    "df.columns"
   ]
  },
  {
   "cell_type": "markdown",
   "metadata": {},
   "source": [
    "Further investigation reveals that some of the column names are serialized/anonymized which is consistent with the data set description obtained from [Kaggle](https://www.kaggle.com/code/janiobachmann/credit-fraud-dealing-with-imbalanced-datasets/input). This may be result of a PCA Dimensionality reduction to protect user identities and sensitive features(v1-v28)"
   ]
  },
  {
   "cell_type": "code",
   "execution_count": 14,
   "metadata": {},
   "outputs": [
    {
     "data": {
      "image/png": "[encoded data removed]",
      "text/plain": [
       "<Figure size 432x288 with 1 Axes>"
      ]
     },
     "metadata": {
      "needs_background": "light"
     },
     "output_type": "display_data"
    }
   ],
   "source": [
    "# Use seaborn to create a heatmap of the null values\n",
    "\n",
    "sns.heatmap(df.isnull(), cmap='viridis', cbar=False)\n",
    "plt.title('Null Values in DataFrame')\n",
    "plt.show()\n"
   ]
  },
  {
   "cell_type": "markdown",
   "metadata": {},
   "source": [
    "This simple visualization provides a quick glance of the distribution of null values within the data set. There are `zero null values` in the dataset!"
   ]
  },
  {
   "cell_type": "markdown",
   "metadata": {},
   "source": [
    "#### `Visualizing Class Imbalance`"
   ]
  },
  {
   "cell_type": "markdown",
   "metadata": {},
   "source": [
    "Given the nature of this classification problem, it's essential to assess the level of class imbalance within our dataset. Visualizing the distribution of class labels enables us to identify any imbalance and take proactive steps to address it before proceeding with the training of our Machine Learning models. This proactive approach ensures that our models are trained on a balanced dataset, which is crucial for achieving optimal performance and generalization capabilities."
   ]
  },
  {
   "cell_type": "code",
   "execution_count": 15,
   "metadata": {},
   "outputs": [
    {
     "name": "stdout",
     "output_type": "stream",
     "text": [
      "Non-Fraudulent Transactions: 79,881 (99.85%)\n",
      "Fraudulent Transactions: 119 (0.15%)\n"
     ]
    }
   ],
   "source": [
    "# Count and normalize non-fraudulent transactions\n",
    "non_fraud_count = df['Class'].value_counts()[0]\n",
    "non_fraud_percentage = df['Class'].value_counts(normalize=True)[0]\n",
    "\n",
    "# Count and normalize fraudulent transactions\n",
    "fraud_count = df['Class'].value_counts()[1]\n",
    "fraud_percentage = df['Class'].value_counts(normalize=True)[1]\n",
    "\n",
    "# Render the results\n",
    "print(\"Non-Fraudulent Transactions: {:,} ({:.2%})\".format(non_fraud_count, non_fraud_percentage))\n",
    "print(\"Fraudulent Transactions: {:,} ({:.2%})\".format(fraud_count, fraud_percentage))\n"
   ]
  },
  {
   "cell_type": "code",
   "execution_count": 16,
   "metadata": {},
   "outputs": [
    {
     "data": {
      "image/png": "[encoded data removed]",
      "text/plain": [
       "<Figure size 864x432 with 2 Axes>"
      ]
     },
     "metadata": {
      "needs_background": "light"
     },
     "output_type": "display_data"
    }
   ],
   "source": [
    "\n",
    "# custom colors for the plot\n",
    "colors = ['#FFFF00', '#000000']\n",
    "\n",
    "# Create subplots with two plots side by side\n",
    "fig, axs = plt.subplots(1, 2, figsize=(12, 6))\n",
    "\n",
    "# Plot countplot\n",
    "sns.countplot('Class', data=df, palette=colors, ax=axs[0])\n",
    "axs[0].set_title('Class Distribution (Countplot)')\n",
    "\n",
    "# Plot pie chart\n",
    "class_counts = df['Class'].value_counts()\n",
    "axs[1].pie(class_counts, labels=class_counts.index, autopct='%1.2f%%', colors=colors, startangle=90)\n",
    "axs[1].set_title('Class Distribution (Pie Chart)')\n",
    "\n",
    "plt.tight_layout()\n",
    "plt.show()\n"
   ]
  },
  {
   "cell_type": "markdown",
   "metadata": {},
   "source": [
    "The dataset exhibits heavy class imbalance, with an overwhelming majority of transactions, specifically 99.85%, categorized as non-fraudulent. This stark skew towards one class, while common in real-world scenarios, presents a significant challenge for our machine learning algorithms. It underscores the need for robust strategies to handle such class imbalances to ensure that our models are effectively trained to detect the minority class (fraudulent transactions) with sufficient accuracy and precision. Addressing this class imbalance is paramount to the success of our fraud detection system, as failure to do so may lead to biased or inadequate model performance, potentially compromising the system's ability to detect fraudulent activities effectively."
   ]
  },
  {
   "cell_type": "code",
   "execution_count": 17,
   "metadata": {},
   "outputs": [
    {
     "data": {
      "text/plain": [
       "(1.0, 172792.0)"
      ]
     },
     "execution_count": 17,
     "metadata": {},
     "output_type": "execute_result"
    },
    {
     "data": {
      "image/png": "[encoded data removed]",
      "text/plain": [
       "<Figure size 1296x288 with 2 Axes>"
      ]
     },
     "metadata": {
      "needs_background": "light"
     },
     "output_type": "display_data"
    }
   ],
   "source": [
    "fig, ax = plt.subplots(1, 2, figsize=(18,4))\n",
    "\n",
    "amount_val = df['Amount'].values\n",
    "time_val = df['Time'].values\n",
    "\n",
    "sns.distplot(amount_val, ax=ax[0], color='r')\n",
    "ax[0].set_title('Distribution of Transaction Amount', fontsize=14)\n",
    "ax[0].set_xlim([min(amount_val), max(amount_val)])\n",
    "\n",
    "sns.distplot(time_val, ax=ax[1], color='b')\n",
    "ax[1].set_title('Distribution of Transaction Time', fontsize=14)\n",
    "ax[1].set_xlim([min(time_val), max(time_val)])"
   ]
  },
  {
   "cell_type": "markdown",
   "metadata": {},
   "source": [
    "## Data Preprocessing"
   ]
  },
  {
   "cell_type": "markdown",
   "metadata": {},
   "source": [
    "In this critical data preprocessing section, we refine the dataset to optimize it for machine learning model training. Tasks include:\n",
    "\n",
    "- Feature Selection: Identifying informative features while discarding irrelevant ones to enhance model performance and interpretability. Techniques like ANOVA and correlation analysis aid in this process.\n",
    "- Data Scaling/Normalization: Ensuring numerical features are on a similar scale to prevent dominance by larger-magnitude features. Methods like Min-Max scaling and Z-score normalization facilitate better model convergence.\n",
    "- Data Augmentation: Generating synthetic data points, such as through SMOTE, to address class imbalance and enhance model generalization."
   ]
  },
  {
   "cell_type": "markdown",
   "metadata": {},
   "source": [
    "### **`Feature Selection`**"
   ]
  },
  {
   "cell_type": "markdown",
   "metadata": {},
   "source": [
    "- Given the anonymized nature of the features, relying on domain knowledge for feature selection is unfeasible. Instead, statistical tests such as ANOVA are paramount for identifying the most discriminative features for our modeling process. These tests serve as the primary means to gauge the significance of each feature in relation to the target variable, allowing us to prioritize the inclusion of those features that exhibit the strongest association with the outcome of interest."
   ]
  },
  {
   "cell_type": "markdown",
   "metadata": {},
   "source": [
    "#### ANOVA TEST (using Sklearn Library)"
   ]
  },
  {
   "cell_type": "code",
   "execution_count": 18,
   "metadata": {},
   "outputs": [
    {
     "name": "stdout",
     "output_type": "stream",
     "text": [
      "Selected Features: Index(['V1', 'V3', 'V4', 'V7', 'V10', 'V11', 'V12', 'V14', 'V16', 'V17'], dtype='object')\n"
     ]
    }
   ],
   "source": [
    "from sklearn.feature_selection import SelectKBest, f_classif\n",
    "\n",
    "# Separate features (X) and target variable (y)\n",
    "X = df.drop(columns=['Class'])  # Features\n",
    "y = df['Class']  # Target variable\n",
    "\n",
    "# Initialize SelectKBest with f_classif scoring function\n",
    "selector = SelectKBest(score_func=f_classif)\n",
    "\n",
    "# Fit selector to the data\n",
    "selector.fit(X, y)\n",
    "\n",
    "# Get selected features\n",
    "selected_features = X.columns[selector.get_support()]\n",
    "\n",
    "# Print selected features\n",
    "print(\"Selected Features:\", selected_features)\n"
   ]
  },
  {
   "cell_type": "markdown",
   "metadata": {},
   "source": [
    "Based on ANOVA F-values, the following features ['V1', 'V3', 'V4', 'V7', 'V10', 'V11', 'V12', 'V14', 'V16', 'V17'] will be prioritized in the modeling phase"
   ]
  },
  {
   "cell_type": "markdown",
   "metadata": {},
   "source": [
    "### **`Data Balancing (SMOTE)`**"
   ]
  },
  {
   "cell_type": "markdown",
   "metadata": {},
   "source": [
    "To address the class-imbalance issue, Synthetic Minority Over-sampling Technique (SMOTE), a popular data augmentation method will be employed. SMOTE works by generating synthetic samples in the feature space of the minority class (Fraud Case), thereby reducing class imbalance and improving model performance. In this section, we explore the application of SMOTE to rebalance our dataset, ensuring that our machine learning models are trained on a more representative and equitable distribution of class instances."
   ]
  },
  {
   "cell_type": "code",
   "execution_count": 19,
   "metadata": {},
   "outputs": [],
   "source": [
    "# Redifine X, y using the Selected Features\n",
    "selected_features = ['V1', 'V3', 'V4', 'V7', 'V10', 'V11', 'V12', 'V14', 'V16', 'V17']\n",
    "X = df[selected_features]\n",
    "y = df['Class']\n",
    "\n",
    "# 1. Perform Train-Test Split\n",
    "X_train, X_test, y_train, y_test = train_test_split(X, y, test_size=0.2, random_state=42)\n",
    "\n",
    "# 2. Perform SMOTE (only on training data)\n",
    "smote = SMOTE(random_state=42)\n",
    "X_train_resampled, y_train_resampled = smote.fit_resample(X_train, y_train)\n",
    "\n",
    "# 3. Normalize Numeric Columns (separately for training and testing sets)\n",
    "scaler = StandardScaler()\n",
    "X_train_resampled_normalized = scaler.fit_transform(X_train_resampled)\n",
    "X_test_normalized = scaler.transform(X_test)\n"
   ]
  },
  {
   "cell_type": "code",
   "execution_count": 20,
   "metadata": {},
   "outputs": [
    {
     "data": {
      "image/png": "[encoded data removed]",
      "text/plain": [
       "<Figure size 576x432 with 1 Axes>"
      ]
     },
     "metadata": {
      "needs_background": "light"
     },
     "output_type": "display_data"
    }
   ],
   "source": [
    "# Plot the class balance after SMOTE\n",
    "plt.figure(figsize=(8, 6))\n",
    "plt.bar(y_train_resampled.value_counts().index, y_train_resampled.value_counts().values, color=['blue', 'red'])\n",
    "plt.xlabel('Class')\n",
    "plt.ylabel('Count')\n",
    "plt.title('Class Balance After SMOTE')\n",
    "plt.xticks([0, 1], ['Non-Fraudulent', 'Fraudulent'])\n",
    "plt.show()\n"
   ]
  },
  {
   "cell_type": "code",
   "execution_count": 21,
   "metadata": {},
   "outputs": [],
   "source": [
    "# Keeping it simple with the variable names:assign the transformed variables to the simpler variable names \n",
    "\n",
    "X_train = X_train_resampled_normalized\n",
    "y_train = y_train_resampled"
   ]
  },
  {
   "cell_type": "code",
   "execution_count": 22,
   "metadata": {},
   "outputs": [
    {
     "data": {
      "text/html": [
       "<div>\n",
       "<style scoped>\n",
       "    .dataframe tbody tr th:only-of-type {\n",
       "        vertical-align: middle;\n",
       "    }\n",
       "\n",
       "    .dataframe tbody tr th {\n",
       "        vertical-align: top;\n",
       "    }\n",
       "\n",
       "    .dataframe thead th {\n",
       "        text-align: right;\n",
       "    }\n",
       "</style>\n",
       "<table border=\"1\" class=\"dataframe\">\n",
       "  <thead>\n",
       "    <tr style=\"text-align: right;\">\n",
       "      <th></th>\n",
       "      <th>V1</th>\n",
       "      <th>V3</th>\n",
       "      <th>V4</th>\n",
       "      <th>V7</th>\n",
       "      <th>V10</th>\n",
       "      <th>V11</th>\n",
       "      <th>V12</th>\n",
       "      <th>V14</th>\n",
       "      <th>V16</th>\n",
       "      <th>V17</th>\n",
       "    </tr>\n",
       "  </thead>\n",
       "  <tbody>\n",
       "    <tr>\n",
       "      <th>0</th>\n",
       "      <td>0.667232</td>\n",
       "      <td>0.694711</td>\n",
       "      <td>-0.599871</td>\n",
       "      <td>0.383210</td>\n",
       "      <td>0.587429</td>\n",
       "      <td>-0.221333</td>\n",
       "      <td>0.909831</td>\n",
       "      <td>0.742252</td>\n",
       "      <td>0.527955</td>\n",
       "      <td>0.534881</td>\n",
       "    </tr>\n",
       "    <tr>\n",
       "      <th>1</th>\n",
       "      <td>0.673757</td>\n",
       "      <td>0.678957</td>\n",
       "      <td>-0.721152</td>\n",
       "      <td>0.361066</td>\n",
       "      <td>0.622613</td>\n",
       "      <td>-0.221508</td>\n",
       "      <td>0.840697</td>\n",
       "      <td>0.782518</td>\n",
       "      <td>0.821741</td>\n",
       "      <td>0.386532</td>\n",
       "    </tr>\n",
       "    <tr>\n",
       "      <th>2</th>\n",
       "      <td>0.688301</td>\n",
       "      <td>0.601192</td>\n",
       "      <td>-0.784756</td>\n",
       "      <td>0.434939</td>\n",
       "      <td>0.612672</td>\n",
       "      <td>-0.196851</td>\n",
       "      <td>0.834052</td>\n",
       "      <td>0.846236</td>\n",
       "      <td>0.730914</td>\n",
       "      <td>0.421150</td>\n",
       "    </tr>\n",
       "    <tr>\n",
       "      <th>3</th>\n",
       "      <td>0.159065</td>\n",
       "      <td>0.841773</td>\n",
       "      <td>-0.720501</td>\n",
       "      <td>0.595280</td>\n",
       "      <td>0.764547</td>\n",
       "      <td>-0.555184</td>\n",
       "      <td>0.767820</td>\n",
       "      <td>0.702692</td>\n",
       "      <td>0.559994</td>\n",
       "      <td>0.487438</td>\n",
       "    </tr>\n",
       "    <tr>\n",
       "      <th>4</th>\n",
       "      <td>0.609707</td>\n",
       "      <td>0.788635</td>\n",
       "      <td>-0.357917</td>\n",
       "      <td>0.255905</td>\n",
       "      <td>0.561143</td>\n",
       "      <td>0.090960</td>\n",
       "      <td>1.069445</td>\n",
       "      <td>0.710418</td>\n",
       "      <td>0.261819</td>\n",
       "      <td>0.659568</td>\n",
       "    </tr>\n",
       "    <tr>\n",
       "      <th>...</th>\n",
       "      <td>...</td>\n",
       "      <td>...</td>\n",
       "      <td>...</td>\n",
       "      <td>...</td>\n",
       "      <td>...</td>\n",
       "      <td>...</td>\n",
       "      <td>...</td>\n",
       "      <td>...</td>\n",
       "      <td>...</td>\n",
       "      <td>...</td>\n",
       "    </tr>\n",
       "    <tr>\n",
       "      <th>127799</th>\n",
       "      <td>-1.997590</td>\n",
       "      <td>-2.270153</td>\n",
       "      <td>2.247077</td>\n",
       "      <td>-2.360462</td>\n",
       "      <td>-2.812341</td>\n",
       "      <td>2.073996</td>\n",
       "      <td>-3.054956</td>\n",
       "      <td>-1.986611</td>\n",
       "      <td>-2.996806</td>\n",
       "      <td>-2.816328</td>\n",
       "    </tr>\n",
       "    <tr>\n",
       "      <th>127800</th>\n",
       "      <td>-1.672370</td>\n",
       "      <td>-1.825430</td>\n",
       "      <td>0.734526</td>\n",
       "      <td>-1.169686</td>\n",
       "      <td>-0.879049</td>\n",
       "      <td>0.408849</td>\n",
       "      <td>-0.788556</td>\n",
       "      <td>-0.885321</td>\n",
       "      <td>-0.703679</td>\n",
       "      <td>-0.757038</td>\n",
       "    </tr>\n",
       "    <tr>\n",
       "      <th>127801</th>\n",
       "      <td>0.081782</td>\n",
       "      <td>-0.111496</td>\n",
       "      <td>-0.704665</td>\n",
       "      <td>0.275929</td>\n",
       "      <td>-0.152055</td>\n",
       "      <td>0.013463</td>\n",
       "      <td>-0.130939</td>\n",
       "      <td>-0.487627</td>\n",
       "      <td>-0.652290</td>\n",
       "      <td>-0.073122</td>\n",
       "    </tr>\n",
       "    <tr>\n",
       "      <th>127802</th>\n",
       "      <td>-0.072088</td>\n",
       "      <td>0.098077</td>\n",
       "      <td>-0.049669</td>\n",
       "      <td>0.286397</td>\n",
       "      <td>0.114495</td>\n",
       "      <td>0.148527</td>\n",
       "      <td>-0.046545</td>\n",
       "      <td>-0.614007</td>\n",
       "      <td>-0.229839</td>\n",
       "      <td>-0.219149</td>\n",
       "    </tr>\n",
       "    <tr>\n",
       "      <th>127803</th>\n",
       "      <td>0.331030</td>\n",
       "      <td>0.008108</td>\n",
       "      <td>-0.793652</td>\n",
       "      <td>1.248078</td>\n",
       "      <td>0.068721</td>\n",
       "      <td>-0.831477</td>\n",
       "      <td>0.506576</td>\n",
       "      <td>0.196824</td>\n",
       "      <td>0.617796</td>\n",
       "      <td>0.854046</td>\n",
       "    </tr>\n",
       "  </tbody>\n",
       "</table>\n",
       "<p>127804 rows × 10 columns</p>\n",
       "</div>"
      ],
      "text/plain": [
       "              V1        V3        V4        V7       V10       V11       V12  \\\n",
       "0       0.667232  0.694711 -0.599871  0.383210  0.587429 -0.221333  0.909831   \n",
       "1       0.673757  0.678957 -0.721152  0.361066  0.622613 -0.221508  0.840697   \n",
       "2       0.688301  0.601192 -0.784756  0.434939  0.612672 -0.196851  0.834052   \n",
       "3       0.159065  0.841773 -0.720501  0.595280  0.764547 -0.555184  0.767820   \n",
       "4       0.609707  0.788635 -0.357917  0.255905  0.561143  0.090960  1.069445   \n",
       "...          ...       ...       ...       ...       ...       ...       ...   \n",
       "127799 -1.997590 -2.270153  2.247077 -2.360462 -2.812341  2.073996 -3.054956   \n",
       "127800 -1.672370 -1.825430  0.734526 -1.169686 -0.879049  0.408849 -0.788556   \n",
       "127801  0.081782 -0.111496 -0.704665  0.275929 -0.152055  0.013463 -0.130939   \n",
       "127802 -0.072088  0.098077 -0.049669  0.286397  0.114495  0.148527 -0.046545   \n",
       "127803  0.331030  0.008108 -0.793652  1.248078  0.068721 -0.831477  0.506576   \n",
       "\n",
       "             V14       V16       V17  \n",
       "0       0.742252  0.527955  0.534881  \n",
       "1       0.782518  0.821741  0.386532  \n",
       "2       0.846236  0.730914  0.421150  \n",
       "3       0.702692  0.559994  0.487438  \n",
       "4       0.710418  0.261819  0.659568  \n",
       "...          ...       ...       ...  \n",
       "127799 -1.986611 -2.996806 -2.816328  \n",
       "127800 -0.885321 -0.703679 -0.757038  \n",
       "127801 -0.487627 -0.652290 -0.073122  \n",
       "127802 -0.614007 -0.229839 -0.219149  \n",
       "127803  0.196824  0.617796  0.854046  \n",
       "\n",
       "[127804 rows x 10 columns]"
      ]
     },
     "execution_count": 22,
     "metadata": {},
     "output_type": "execute_result"
    }
   ],
   "source": [
    "X_train_df = pd.DataFrame(X_train, columns =selected_features)\n",
    "X_train_df\n"
   ]
  },
  {
   "cell_type": "code",
   "execution_count": 23,
   "metadata": {},
   "outputs": [
    {
     "data": {
      "text/html": [
       "<div>\n",
       "<style scoped>\n",
       "    .dataframe tbody tr th:only-of-type {\n",
       "        vertical-align: middle;\n",
       "    }\n",
       "\n",
       "    .dataframe tbody tr th {\n",
       "        vertical-align: top;\n",
       "    }\n",
       "\n",
       "    .dataframe thead th {\n",
       "        text-align: right;\n",
       "    }\n",
       "</style>\n",
       "<table border=\"1\" class=\"dataframe\">\n",
       "  <thead>\n",
       "    <tr style=\"text-align: right;\">\n",
       "      <th></th>\n",
       "      <th>Class</th>\n",
       "    </tr>\n",
       "  </thead>\n",
       "  <tbody>\n",
       "    <tr>\n",
       "      <th>0</th>\n",
       "      <td>0</td>\n",
       "    </tr>\n",
       "    <tr>\n",
       "      <th>1</th>\n",
       "      <td>0</td>\n",
       "    </tr>\n",
       "    <tr>\n",
       "      <th>2</th>\n",
       "      <td>0</td>\n",
       "    </tr>\n",
       "    <tr>\n",
       "      <th>3</th>\n",
       "      <td>0</td>\n",
       "    </tr>\n",
       "    <tr>\n",
       "      <th>4</th>\n",
       "      <td>0</td>\n",
       "    </tr>\n",
       "    <tr>\n",
       "      <th>...</th>\n",
       "      <td>...</td>\n",
       "    </tr>\n",
       "    <tr>\n",
       "      <th>127799</th>\n",
       "      <td>1</td>\n",
       "    </tr>\n",
       "    <tr>\n",
       "      <th>127800</th>\n",
       "      <td>1</td>\n",
       "    </tr>\n",
       "    <tr>\n",
       "      <th>127801</th>\n",
       "      <td>1</td>\n",
       "    </tr>\n",
       "    <tr>\n",
       "      <th>127802</th>\n",
       "      <td>1</td>\n",
       "    </tr>\n",
       "    <tr>\n",
       "      <th>127803</th>\n",
       "      <td>1</td>\n",
       "    </tr>\n",
       "  </tbody>\n",
       "</table>\n",
       "<p>127804 rows × 1 columns</p>\n",
       "</div>"
      ],
      "text/plain": [
       "        Class\n",
       "0           0\n",
       "1           0\n",
       "2           0\n",
       "3           0\n",
       "4           0\n",
       "...       ...\n",
       "127799      1\n",
       "127800      1\n",
       "127801      1\n",
       "127802      1\n",
       "127803      1\n",
       "\n",
       "[127804 rows x 1 columns]"
      ]
     },
     "execution_count": 23,
     "metadata": {},
     "output_type": "execute_result"
    }
   ],
   "source": [
    "y_train_df = pd.DataFrame(y_train, columns= ['Class'])\n",
    "y_train_df"
   ]
  },
  {
   "cell_type": "code",
   "execution_count": 24,
   "metadata": {},
   "outputs": [
    {
     "data": {
      "text/html": [
       "<div>\n",
       "<style scoped>\n",
       "    .dataframe tbody tr th:only-of-type {\n",
       "        vertical-align: middle;\n",
       "    }\n",
       "\n",
       "    .dataframe tbody tr th {\n",
       "        vertical-align: top;\n",
       "    }\n",
       "\n",
       "    .dataframe thead th {\n",
       "        text-align: right;\n",
       "    }\n",
       "</style>\n",
       "<table border=\"1\" class=\"dataframe\">\n",
       "  <thead>\n",
       "    <tr style=\"text-align: right;\">\n",
       "      <th></th>\n",
       "      <th>V1</th>\n",
       "      <th>V3</th>\n",
       "      <th>V4</th>\n",
       "      <th>V7</th>\n",
       "      <th>V10</th>\n",
       "      <th>V11</th>\n",
       "      <th>V12</th>\n",
       "      <th>V14</th>\n",
       "      <th>V16</th>\n",
       "      <th>V17</th>\n",
       "    </tr>\n",
       "  </thead>\n",
       "  <tbody>\n",
       "    <tr>\n",
       "      <th>0</th>\n",
       "      <td>-0.991517</td>\n",
       "      <td>0.272823</td>\n",
       "      <td>-0.503334</td>\n",
       "      <td>0.307697</td>\n",
       "      <td>0.711695</td>\n",
       "      <td>-0.397313</td>\n",
       "      <td>0.828863</td>\n",
       "      <td>0.847083</td>\n",
       "      <td>0.690881</td>\n",
       "      <td>0.577821</td>\n",
       "    </tr>\n",
       "    <tr>\n",
       "      <th>1</th>\n",
       "      <td>0.022268</td>\n",
       "      <td>0.511424</td>\n",
       "      <td>-0.808216</td>\n",
       "      <td>0.547971</td>\n",
       "      <td>0.329422</td>\n",
       "      <td>-0.890381</td>\n",
       "      <td>0.652807</td>\n",
       "      <td>0.664457</td>\n",
       "      <td>0.607781</td>\n",
       "      <td>0.708640</td>\n",
       "    </tr>\n",
       "    <tr>\n",
       "      <th>2</th>\n",
       "      <td>0.731258</td>\n",
       "      <td>0.613659</td>\n",
       "      <td>-1.178104</td>\n",
       "      <td>0.332331</td>\n",
       "      <td>1.006451</td>\n",
       "      <td>-0.005756</td>\n",
       "      <td>0.770114</td>\n",
       "      <td>0.720421</td>\n",
       "      <td>0.424992</td>\n",
       "      <td>0.606100</td>\n",
       "    </tr>\n",
       "    <tr>\n",
       "      <th>3</th>\n",
       "      <td>0.214084</td>\n",
       "      <td>0.136233</td>\n",
       "      <td>-0.302092</td>\n",
       "      <td>0.653493</td>\n",
       "      <td>0.441159</td>\n",
       "      <td>-0.281938</td>\n",
       "      <td>0.922046</td>\n",
       "      <td>0.866220</td>\n",
       "      <td>0.567814</td>\n",
       "      <td>0.483932</td>\n",
       "    </tr>\n",
       "    <tr>\n",
       "      <th>4</th>\n",
       "      <td>0.918022</td>\n",
       "      <td>0.337940</td>\n",
       "      <td>-1.245766</td>\n",
       "      <td>0.218371</td>\n",
       "      <td>1.017064</td>\n",
       "      <td>-1.249898</td>\n",
       "      <td>0.242934</td>\n",
       "      <td>0.714565</td>\n",
       "      <td>0.437519</td>\n",
       "      <td>0.622962</td>\n",
       "    </tr>\n",
       "    <tr>\n",
       "      <th>...</th>\n",
       "      <td>...</td>\n",
       "      <td>...</td>\n",
       "      <td>...</td>\n",
       "      <td>...</td>\n",
       "      <td>...</td>\n",
       "      <td>...</td>\n",
       "      <td>...</td>\n",
       "      <td>...</td>\n",
       "      <td>...</td>\n",
       "      <td>...</td>\n",
       "    </tr>\n",
       "    <tr>\n",
       "      <th>15995</th>\n",
       "      <td>0.621901</td>\n",
       "      <td>0.690377</td>\n",
       "      <td>-0.763302</td>\n",
       "      <td>0.321621</td>\n",
       "      <td>0.587654</td>\n",
       "      <td>-0.201210</td>\n",
       "      <td>0.723402</td>\n",
       "      <td>0.830088</td>\n",
       "      <td>0.792696</td>\n",
       "      <td>0.442931</td>\n",
       "    </tr>\n",
       "    <tr>\n",
       "      <th>15996</th>\n",
       "      <td>0.676894</td>\n",
       "      <td>0.659861</td>\n",
       "      <td>-0.296484</td>\n",
       "      <td>0.457842</td>\n",
       "      <td>0.569298</td>\n",
       "      <td>-1.012327</td>\n",
       "      <td>0.896872</td>\n",
       "      <td>0.662341</td>\n",
       "      <td>0.510581</td>\n",
       "      <td>0.476803</td>\n",
       "    </tr>\n",
       "    <tr>\n",
       "      <th>15997</th>\n",
       "      <td>0.035063</td>\n",
       "      <td>0.979207</td>\n",
       "      <td>-0.265805</td>\n",
       "      <td>0.685564</td>\n",
       "      <td>0.650173</td>\n",
       "      <td>0.100788</td>\n",
       "      <td>0.880837</td>\n",
       "      <td>0.680242</td>\n",
       "      <td>0.565811</td>\n",
       "      <td>0.465969</td>\n",
       "    </tr>\n",
       "    <tr>\n",
       "      <th>15998</th>\n",
       "      <td>0.879462</td>\n",
       "      <td>0.402976</td>\n",
       "      <td>-1.082006</td>\n",
       "      <td>0.213376</td>\n",
       "      <td>0.840317</td>\n",
       "      <td>-0.541526</td>\n",
       "      <td>0.619294</td>\n",
       "      <td>0.673471</td>\n",
       "      <td>1.040876</td>\n",
       "      <td>0.480165</td>\n",
       "    </tr>\n",
       "    <tr>\n",
       "      <th>15999</th>\n",
       "      <td>0.200322</td>\n",
       "      <td>0.530156</td>\n",
       "      <td>-1.003860</td>\n",
       "      <td>0.591203</td>\n",
       "      <td>0.463534</td>\n",
       "      <td>-0.408391</td>\n",
       "      <td>0.683118</td>\n",
       "      <td>1.027523</td>\n",
       "      <td>0.568274</td>\n",
       "      <td>0.471021</td>\n",
       "    </tr>\n",
       "  </tbody>\n",
       "</table>\n",
       "<p>16000 rows × 10 columns</p>\n",
       "</div>"
      ],
      "text/plain": [
       "             V1        V3        V4        V7       V10       V11       V12  \\\n",
       "0     -0.991517  0.272823 -0.503334  0.307697  0.711695 -0.397313  0.828863   \n",
       "1      0.022268  0.511424 -0.808216  0.547971  0.329422 -0.890381  0.652807   \n",
       "2      0.731258  0.613659 -1.178104  0.332331  1.006451 -0.005756  0.770114   \n",
       "3      0.214084  0.136233 -0.302092  0.653493  0.441159 -0.281938  0.922046   \n",
       "4      0.918022  0.337940 -1.245766  0.218371  1.017064 -1.249898  0.242934   \n",
       "...         ...       ...       ...       ...       ...       ...       ...   \n",
       "15995  0.621901  0.690377 -0.763302  0.321621  0.587654 -0.201210  0.723402   \n",
       "15996  0.676894  0.659861 -0.296484  0.457842  0.569298 -1.012327  0.896872   \n",
       "15997  0.035063  0.979207 -0.265805  0.685564  0.650173  0.100788  0.880837   \n",
       "15998  0.879462  0.402976 -1.082006  0.213376  0.840317 -0.541526  0.619294   \n",
       "15999  0.200322  0.530156 -1.003860  0.591203  0.463534 -0.408391  0.683118   \n",
       "\n",
       "            V14       V16       V17  \n",
       "0      0.847083  0.690881  0.577821  \n",
       "1      0.664457  0.607781  0.708640  \n",
       "2      0.720421  0.424992  0.606100  \n",
       "3      0.866220  0.567814  0.483932  \n",
       "4      0.714565  0.437519  0.622962  \n",
       "...         ...       ...       ...  \n",
       "15995  0.830088  0.792696  0.442931  \n",
       "15996  0.662341  0.510581  0.476803  \n",
       "15997  0.680242  0.565811  0.465969  \n",
       "15998  0.673471  1.040876  0.480165  \n",
       "15999  1.027523  0.568274  0.471021  \n",
       "\n",
       "[16000 rows x 10 columns]"
      ]
     },
     "execution_count": 24,
     "metadata": {},
     "output_type": "execute_result"
    }
   ],
   "source": [
    "X_test = X_test_normalized\n",
    "X_test_df= pd.DataFrame(X_test, columns= selected_features)\n",
    "X_test_df"
   ]
  },
  {
   "cell_type": "code",
   "execution_count": 25,
   "metadata": {},
   "outputs": [
    {
     "data": {
      "text/html": [
       "<div>\n",
       "<style scoped>\n",
       "    .dataframe tbody tr th:only-of-type {\n",
       "        vertical-align: middle;\n",
       "    }\n",
       "\n",
       "    .dataframe tbody tr th {\n",
       "        vertical-align: top;\n",
       "    }\n",
       "\n",
       "    .dataframe thead th {\n",
       "        text-align: right;\n",
       "    }\n",
       "</style>\n",
       "<table border=\"1\" class=\"dataframe\">\n",
       "  <thead>\n",
       "    <tr style=\"text-align: right;\">\n",
       "      <th></th>\n",
       "      <th>Class</th>\n",
       "    </tr>\n",
       "  </thead>\n",
       "  <tbody>\n",
       "    <tr>\n",
       "      <th>219224</th>\n",
       "      <td>0</td>\n",
       "    </tr>\n",
       "    <tr>\n",
       "      <th>224583</th>\n",
       "      <td>0</td>\n",
       "    </tr>\n",
       "    <tr>\n",
       "      <th>18105</th>\n",
       "      <td>0</td>\n",
       "    </tr>\n",
       "    <tr>\n",
       "      <th>262435</th>\n",
       "      <td>0</td>\n",
       "    </tr>\n",
       "    <tr>\n",
       "      <th>238985</th>\n",
       "      <td>0</td>\n",
       "    </tr>\n",
       "    <tr>\n",
       "      <th>...</th>\n",
       "      <td>...</td>\n",
       "    </tr>\n",
       "    <tr>\n",
       "      <th>40136</th>\n",
       "      <td>0</td>\n",
       "    </tr>\n",
       "    <tr>\n",
       "      <th>19272</th>\n",
       "      <td>0</td>\n",
       "    </tr>\n",
       "    <tr>\n",
       "      <th>125359</th>\n",
       "      <td>0</td>\n",
       "    </tr>\n",
       "    <tr>\n",
       "      <th>249126</th>\n",
       "      <td>0</td>\n",
       "    </tr>\n",
       "    <tr>\n",
       "      <th>242555</th>\n",
       "      <td>0</td>\n",
       "    </tr>\n",
       "  </tbody>\n",
       "</table>\n",
       "<p>16000 rows × 1 columns</p>\n",
       "</div>"
      ],
      "text/plain": [
       "        Class\n",
       "219224      0\n",
       "224583      0\n",
       "18105       0\n",
       "262435      0\n",
       "238985      0\n",
       "...       ...\n",
       "40136       0\n",
       "19272       0\n",
       "125359      0\n",
       "249126      0\n",
       "242555      0\n",
       "\n",
       "[16000 rows x 1 columns]"
      ]
     },
     "execution_count": 25,
     "metadata": {},
     "output_type": "execute_result"
    }
   ],
   "source": [
    "y_test_df = pd.DataFrame(y_test, columns= ['Class'])\n",
    "y_test_df"
   ]
  },
  {
   "cell_type": "code",
   "execution_count": 26,
   "metadata": {},
   "outputs": [
    {
     "data": {
      "text/plain": [
       "array([[ 0.66723152,  0.69471089, -0.59987112, ...,  0.74225158,\n",
       "         0.52795547,  0.5348805 ],\n",
       "       [ 0.6737566 ,  0.67895727, -0.72115203, ...,  0.78251825,\n",
       "         0.82174083,  0.38653159],\n",
       "       [ 0.68830135,  0.60119176, -0.78475553, ...,  0.84623647,\n",
       "         0.73091371,  0.42115013],\n",
       "       ...,\n",
       "       [ 0.08178221, -0.11149645, -0.70466488, ..., -0.48762668,\n",
       "        -0.65228981, -0.07312163],\n",
       "       [-0.07208811,  0.09807656, -0.04966916, ..., -0.61400705,\n",
       "        -0.22983884, -0.2191488 ],\n",
       "       [ 0.33103018,  0.00810798, -0.79365188, ...,  0.19682375,\n",
       "         0.6177961 ,  0.85404561]])"
      ]
     },
     "execution_count": 26,
     "metadata": {},
     "output_type": "execute_result"
    }
   ],
   "source": [
    "X_train_df.values"
   ]
  },
  {
   "cell_type": "markdown",
   "metadata": {},
   "source": [
    "## Modeling"
   ]
  },
  {
   "cell_type": "markdown",
   "metadata": {},
   "source": [
    "- In the modeling phase, we apply machine learning algorithms to the preprocessed data to develop predictive models. The model function trains a classifier on the training data, evaluates its performance using cross-validation and ROC AUC score, and plots the Receiver Operating Characteristic (ROC) curve. The model_evaluation function assesses the trained model's performance using a confusion matrix and classification report, providing insights into its predictive accuracy and error types. These steps collectively enable us to iteratively refine and evaluate our models to achieve optimal predictive performance."
   ]
  },
  {
   "cell_type": "code",
   "execution_count": 27,
   "metadata": {},
   "outputs": [],
   "source": [
    "def model(classifier, x_train, y_train, x_test, y_test):\n",
    "    classifier.fit(x_train, y_train)\n",
    "    prediction = classifier.predict(x_test)\n",
    "    cv = RepeatedStratifiedKFold(n_splits=10, n_repeats=3, random_state=1)\n",
    "    print(\"Cross Validation Score : \", '{0:.2%}'.format(cross_val_score(classifier, x_train, y_train, cv=cv, scoring='roc_auc').mean()))\n",
    "    print(\"ROC_AUC Score : \", '{0:.2%}'.format(roc_auc_score(y_test, prediction)))\n",
    "    \n",
    "    # Compute ROC curve and ROC area for each class\n",
    "    fpr, tpr, _ = roc_curve(y_test, prediction)\n",
    "    roc_auc = auc(fpr, tpr)\n",
    "\n",
    "    # Plot ROC curve\n",
    "    plt.figure()\n",
    "    plt.plot(fpr, tpr, color='darkorange', lw=2, label='ROC curve (area = %0.2f)' % roc_auc)\n",
    "    plt.plot([0, 1], [0, 1], color='navy', lw=2, linestyle='--')\n",
    "    plt.xlim([0.0, 1.0])\n",
    "    plt.ylim([0.0, 1.05])\n",
    "    plt.xlabel('False Positive Rate')\n",
    "    plt.ylabel('True Positive Rate')\n",
    "    plt.title('Receiver Operating Characteristic (ROC) Curve')\n",
    "    plt.legend(loc=\"lower right\")\n",
    "    plt.show()\n",
    "    \n",
    "def model_evaluation(classifier,x_test,y_test):\n",
    "    \n",
    "    # Confusion Matrix\n",
    "    cm = confusion_matrix(y_test,classifier.predict(x_test))\n",
    "    names = ['True Neg','False Pos','False Neg','True Pos']\n",
    "    counts = [value for value in cm.flatten()]\n",
    "    percentages = ['{0:.2%}'.format(value) for value in cm.flatten()/np.sum(cm)]\n",
    "    labels = [f'{v1}\\n{v2}\\n{v3}' for v1, v2, v3 in zip(names,counts,percentages)]\n",
    "    labels = np.asarray(labels).reshape(2,2)\n",
    "    sns.heatmap(cm,annot = labels,cmap = 'Oranges',fmt ='')\n",
    "    \n",
    "    # Classification Report\n",
    "    print(classification_report(y_test,classifier.predict(x_test)))"
   ]
  },
  {
   "cell_type": "code",
   "execution_count": null,
   "metadata": {},
   "outputs": [],
   "source": []
  },
  {
   "cell_type": "code",
   "execution_count": null,
   "metadata": {},
   "outputs": [],
   "source": []
  },
  {
   "cell_type": "markdown",
   "metadata": {},
   "source": [
    "### Logistic Regression"
   ]
  },
  {
   "cell_type": "code",
   "execution_count": 39,
   "metadata": {},
   "outputs": [
    {
     "name": "stdout",
     "output_type": "stream",
     "text": [
      "Cross Validation Score :  99.09%\n",
      "ROC_AUC Score :  95.49%\n"
     ]
    },
    {
     "data": {
      "image/png": "[encoded data removed]",
      "text/plain": [
       "<Figure size 432x288 with 1 Axes>"
      ]
     },
     "metadata": {
      "needs_background": "light"
     },
     "output_type": "display_data"
    },
    {
     "name": "stdout",
     "output_type": "stream",
     "text": [
      "              precision    recall  f1-score   support\n",
      "\n",
      "           0       1.00      0.96      0.98     15979\n",
      "           1       0.03      0.95      0.06        21\n",
      "\n",
      "    accuracy                           0.96     16000\n",
      "   macro avg       0.51      0.95      0.52     16000\n",
      "weighted avg       1.00      0.96      0.98     16000\n",
      "\n"
     ]
    },
    {
     "data": {
      "image/png": "[encoded data removed]",
      "text/plain": [
       "<Figure size 432x288 with 2 Axes>"
      ]
     },
     "metadata": {
      "needs_background": "light"
     },
     "output_type": "display_data"
    }
   ],
   "source": [
    "# Training our Vanilla Model using Default Parameters \n",
    "\n",
    "# Instantiating LogisitRegression\n",
    "\n",
    "classifier_lr = LogisticRegression(random_state=42)\n",
    "\n",
    "model(classifier_lr, X_train, y_train, X_test, y_test)\n",
    "model_evaluation(classifier_lr, X_test, y_test)"
   ]
  },
  {
   "cell_type": "code",
   "execution_count": 44,
   "metadata": {},
   "outputs": [
    {
     "name": "stdout",
     "output_type": "stream",
     "text": [
      "Best Hyperparameters: {'solver': 'saga', 'penalty': 'l2', 'max_iter': 300, 'C': 4.281332398719396}\n"
     ]
    }
   ],
   "source": [
    "# Define the hyperparameter distribution\n",
    "param_dist = {\n",
    "    'penalty': [ 'l1', 'l2', 'none'],\n",
    "    'C': np.logspace(-4, 4, 20),\n",
    "    'solver': ['liblinear', 'newton-cg', 'lbfgs', 'sag', 'saga'],\n",
    "    'max_iter': [100, 200, 300, 400, 500]\n",
    "}\n",
    "\n",
    "# Initialize RandomizedSearchCV\n",
    "random_search = RandomizedSearchCV(\n",
    "    estimator=classifier_lr,\n",
    "    param_distributions=param_dist,\n",
    "    n_iter=50,  # Number of parameter settings that are sampled\n",
    "    cv=5,        # 5-fold cross-validation\n",
    "    random_state=42,\n",
    "    n_jobs=-1  # Use all available CPU cores\n",
    ")\n",
    "\n",
    "# Perform random search\n",
    "random_search.fit(X_train, y_train)\n",
    "\n",
    "# Print the best hyperparameters and the corresponding best score\n",
    "print(\"Best Hyperparameters:\", random_search.best_params_)"
   ]
  },
  {
   "cell_type": "code",
   "execution_count": 48,
   "metadata": {},
   "outputs": [
    {
     "name": "stdout",
     "output_type": "stream",
     "text": [
      "Cross Validation Score :  99.09%\n",
      "ROC_AUC Score :  95.49%\n"
     ]
    },
    {
     "data": {
      "image/png": "[encoded data removed]",
      "text/plain": [
       "<Figure size 432x288 with 1 Axes>"
      ]
     },
     "metadata": {
      "needs_background": "light"
     },
     "output_type": "display_data"
    },
    {
     "name": "stdout",
     "output_type": "stream",
     "text": [
      "              precision    recall  f1-score   support\n",
      "\n",
      "           0       1.00      0.96      0.98     15979\n",
      "           1       0.03      0.95      0.06        21\n",
      "\n",
      "    accuracy                           0.96     16000\n",
      "   macro avg       0.51      0.95      0.52     16000\n",
      "weighted avg       1.00      0.96      0.98     16000\n",
      "\n"
     ]
    },
    {
     "data": {
      "image/png": "[encoded data removed]",
      "text/plain": [
       "<Figure size 432x288 with 2 Axes>"
      ]
     },
     "metadata": {
      "needs_background": "light"
     },
     "output_type": "display_data"
    }
   ],
   "source": [
    "# Test tuned_model with refined paramaters on the test set\n",
    "\n",
    "classifier_lr_tuned = LogisticRegression(solver='saga', penalty='l2', max_iter=300, C=4.281332398719396)\n",
    "\n",
    "model(classifier_lr_tuned, X_train, y_train, X_test, y_test)\n",
    "model_evaluation(classifier_lr_tuned, X_test, y_test)"
   ]
  },
  {
   "cell_type": "markdown",
   "metadata": {},
   "source": [
    "### Decision Tree Classifier\n",
    "\n"
   ]
  },
  {
   "cell_type": "code",
   "execution_count": 32,
   "metadata": {},
   "outputs": [
    {
     "name": "stdout",
     "output_type": "stream",
     "text": [
      "Cross Validation Score :  99.82%\n",
      "ROC_AUC Score :  92.70%\n"
     ]
    },
    {
     "data": {
      "image/png": "[encoded data removed]",
      "text/plain": [
       "<Figure size 432x288 with 1 Axes>"
      ]
     },
     "metadata": {
      "needs_background": "light"
     },
     "output_type": "display_data"
    },
    {
     "name": "stdout",
     "output_type": "stream",
     "text": [
      "              precision    recall  f1-score   support\n",
      "\n",
      "           0       1.00      1.00      1.00     15979\n",
      "           1       0.26      0.86      0.40        21\n",
      "\n",
      "    accuracy                           1.00     16000\n",
      "   macro avg       0.63      0.93      0.70     16000\n",
      "weighted avg       1.00      1.00      1.00     16000\n",
      "\n"
     ]
    },
    {
     "data": {
      "image/png": "[encoded data removed]",
      "text/plain": [
       "<Figure size 432x288 with 2 Axes>"
      ]
     },
     "metadata": {
      "needs_background": "light"
     },
     "output_type": "display_data"
    }
   ],
   "source": [
    "# Training our Vanilla Model using Default Parameters \n",
    "\n",
    "# Instantiating DecisionTreeClassifier\n",
    "\n",
    "classifier_dt = DecisionTreeClassifier(random_state=42)\n",
    "\n",
    "model(classifier_dt, X_train, y_train, X_test, y_test)\n",
    "model_evaluation(classifier_dt, X_test, y_test)"
   ]
  },
  {
   "cell_type": "code",
   "execution_count": 30,
   "metadata": {},
   "outputs": [
    {
     "name": "stdout",
     "output_type": "stream",
     "text": [
      "Best Parameters:\n",
      "{'criterion': 'gini', 'max_depth': 19, 'max_features': 'sqrt', 'min_samples_leaf': 2, 'min_samples_split': 11, 'splitter': 'best'}\n"
     ]
    }
   ],
   "source": [
    "#hyperparameter tuning using random search-decision tree classifier\n",
    "\n",
    "from sklearn.model_selection import RandomizedSearchCV\n",
    "from scipy.stats import randint\n",
    "\n",
    "# Define the hyperparameter space\n",
    "param_dist = {\n",
    "    \"criterion\": [\"gini\", \"entropy\"],\n",
    "    \"splitter\": [\"best\", \"random\"],\n",
    "    \"max_depth\": randint(1, 20),\n",
    "    \"min_samples_split\": randint(2, 20),\n",
    "    \"min_samples_leaf\": randint(1, 20),\n",
    "    \"max_features\": [\"auto\", \"sqrt\", \"log2\", None]\n",
    "}\n",
    "\n",
    "# Initialize RandomizedSearchCV\n",
    "random_search = RandomizedSearchCV(\n",
    "    estimator= classifier_dt,\n",
    "    param_distributions=param_dist,\n",
    "    n_iter=100,  # Number of parameter settings that are sampled\n",
    "    cv=5,        # 5-fold cross-validation\n",
    "    random_state=42,\n",
    "    n_jobs=-1  # Use all available CPU cores\n",
    ")\n",
    "\n",
    "# Perform random search\n",
    "random_search.fit(X_train, y_train)\n",
    "\n",
    "# Get the best parameters found\n",
    "best_params = random_search.best_params_\n",
    "\n",
    "# Print the best parameters found\n",
    "print(\"Best Parameters:\")\n",
    "print(best_params)"
   ]
  },
  {
   "cell_type": "code",
   "execution_count": 31,
   "metadata": {},
   "outputs": [
    {
     "name": "stdout",
     "output_type": "stream",
     "text": [
      "Cross Validation Score :  99.87%\n",
      "ROC_AUC Score :  92.74%\n"
     ]
    },
    {
     "data": {
      "image/png": "[encoded data removed]",
      "text/plain": [
       "<Figure size 432x288 with 1 Axes>"
      ]
     },
     "metadata": {
      "needs_background": "light"
     },
     "output_type": "display_data"
    },
    {
     "name": "stdout",
     "output_type": "stream",
     "text": [
      "              precision    recall  f1-score   support\n",
      "\n",
      "           0       1.00      1.00      1.00     15979\n",
      "           1       0.32      0.86      0.47        21\n",
      "\n",
      "    accuracy                           1.00     16000\n",
      "   macro avg       0.66      0.93      0.73     16000\n",
      "weighted avg       1.00      1.00      1.00     16000\n",
      "\n"
     ]
    },
    {
     "data": {
      "image/png": "[encoded data removed]",
      "text/plain": [
       "<Figure size 432x288 with 2 Axes>"
      ]
     },
     "metadata": {
      "needs_background": "light"
     },
     "output_type": "display_data"
    }
   ],
   "source": [
    "# Test tuned_model with refined paramaters on the test set\n",
    "\n",
    "classifier_dt_tuned = DecisionTreeClassifier(criterion= 'gini', max_depth=19, max_features='sqrt', \n",
    "                                             min_samples_leaf=2, min_samples_split=11, splitter='best')\n",
    "\n",
    "model(classifier_dt_tuned, X_train, y_train, X_test, y_test)\n",
    "model_evaluation(classifier_dt_tuned, X_test, y_test)"
   ]
  },
  {
   "cell_type": "markdown",
   "metadata": {},
   "source": [
    "### K-Nearest Neighbours"
   ]
  },
  {
   "cell_type": "code",
   "execution_count": null,
   "metadata": {},
   "outputs": [
    {
     "name": "stdout",
     "output_type": "stream",
     "text": [
      "Cross Validation Score :  99.94%\n",
      "ROC_AUC Score :  97.46%\n"
     ]
    },
    {
     "data": {
      "image/png": "[encoded data removed]",
      "text/plain": [
       "<Figure size 432x288 with 1 Axes>"
      ]
     },
     "metadata": {
      "needs_background": "light"
     },
     "output_type": "display_data"
    }
   ],
   "source": [
    "# Training our Vanilla Model using Default Parameters \n",
    "\n",
    "# Instantiating KNeighborsClassifier\n",
    "\n",
    "knn_classifier= KNeighborsClassifier(random_state=42)\n",
    "\n",
    "model(knn_classifier, X_train, y_train, X_test, y_test)"
   ]
  },
  {
   "cell_type": "code",
   "execution_count": null,
   "metadata": {},
   "outputs": [
    {
     "name": "stdout",
     "output_type": "stream",
     "text": [
      "              precision    recall  f1-score   support\n",
      "\n",
      "           0       1.00      1.00      1.00     15979\n",
      "           1       0.28      0.95      0.43        21\n",
      "\n",
      "    accuracy                           1.00     16000\n",
      "   macro avg       0.64      0.97      0.72     16000\n",
      "weighted avg       1.00      1.00      1.00     16000\n",
      "\n"
     ]
    },
    {
     "data": {
      "image/png": "[encoded data removed]",
      "text/plain": [
       "<Figure size 432x288 with 2 Axes>"
      ]
     },
     "metadata": {
      "needs_background": "light"
     },
     "output_type": "display_data"
    }
   ],
   "source": [
    "model_evaluation(knn_classifier, X_test, y_test)"
   ]
  },
  {
   "cell_type": "code",
   "execution_count": null,
   "metadata": {},
   "outputs": [
    {
     "name": "stdout",
     "output_type": "stream",
     "text": [
      "Best n_neighbors: 3\n"
     ]
    }
   ],
   "source": [
    "# Define the parameter grid\n",
    "param_grid = {'n_neighbors': [3, 5, 7, 9, 11]}\n",
    "\n",
    "# Create the KNN classifier\n",
    "knn_classifier_tuned = KNeighborsClassifier()\n",
    "\n",
    "# Instantiate the GridSearchCV object\n",
    "grid_search = GridSearchCV(knn_classifier_tuned, param_grid, cv=3)\n",
    "\n",
    "# Fit the grid search to the data\n",
    "grid_search.fit(X_train, y_train)\n",
    "\n",
    "# Get the best parameter value\n",
    "best_n_neighbors = grid_search.best_params_['n_neighbors']\n",
    "\n",
    "# Print the best parameter value\n",
    "print(\"Best n_neighbors:\", best_n_neighbors)\n"
   ]
  },
  {
   "cell_type": "code",
   "execution_count": null,
   "metadata": {},
   "outputs": [
    {
     "name": "stdout",
     "output_type": "stream",
     "text": [
      "Cross Validation Score :  99.94%\n",
      "ROC_AUC Score :  97.51%\n"
     ]
    },
    {
     "data": {
      "image/png": "[encoded data removed]",
      "text/plain": [
       "<Figure size 432x288 with 1 Axes>"
      ]
     },
     "metadata": {
      "needs_background": "light"
     },
     "output_type": "display_data"
    },
    {
     "name": "stdout",
     "output_type": "stream",
     "text": [
      "              precision    recall  f1-score   support\n",
      "\n",
      "           0       1.00      1.00      1.00     15979\n",
      "           1       0.28      0.95      0.43        21\n",
      "\n",
      "    accuracy                           1.00     16000\n",
      "   macro avg       0.64      0.97      0.72     16000\n",
      "weighted avg       1.00      1.00      1.00     16000\n",
      "\n"
     ]
    },
    {
     "data": {
      "image/png": "[encoded data removed]",
      "text/plain": [
       "<Figure size 432x288 with 2 Axes>"
      ]
     },
     "metadata": {
      "needs_background": "light"
     },
     "output_type": "display_data"
    }
   ],
   "source": [
    "# Test tuned_model with refined paramaters on the test set\n",
    "\n",
    "# Remember default n_neighbors = 5\n",
    "\n",
    "knn_classifier_tuned = KNeighborsClassifier(n_neighbors=3)\n",
    "model(knn_classifier_tuned, X_train, y_train, X_test, y_test)\n",
    "model_evaluation(knn_classifier_tuned, X_test, y_test)"
   ]
  },
  {
   "cell_type": "markdown",
   "metadata": {},
   "source": [
    "### Random Forest Classifier"
   ]
  },
  {
   "cell_type": "code",
   "execution_count": 36,
   "metadata": {},
   "outputs": [
    {
     "name": "stdout",
     "output_type": "stream",
     "text": [
      "Best Parameters:\n",
      "{'max_depth': 2, 'n_estimators': 75}\n"
     ]
    }
   ],
   "source": [
    "# Instantiating RandomForestClassifier\n",
    "\n",
    "classifier_rf = RandomForestClassifier(random_state=1, n_jobs=-1)\n",
    "\n",
    "#hyperparameter tuning using random search\n",
    "\n",
    "param_dist = {'n_estimators': randint(50,100),\n",
    "              'max_depth': randint(1,5)}\n",
    "\n",
    "rand_search = RandomizedSearchCV(classifier_rf, \n",
    "                                 param_distributions = param_dist, \n",
    "                                 n_iter=5, \n",
    "                                 cv=5)\n",
    "\n",
    "# Perform random search\n",
    "rand_search.fit(X_train, y_train)\n",
    "\n",
    "# Get the best parameters found\n",
    "best_params = rand_search.best_params_\n",
    "\n",
    "# Print the best parameters found\n",
    "print(\"Best Parameters:\")\n",
    "print(best_params)"
   ]
  },
  {
   "cell_type": "code",
   "execution_count": 38,
   "metadata": {},
   "outputs": [
    {
     "name": "stdout",
     "output_type": "stream",
     "text": [
      "Cross Validation Score :  98.29%\n",
      "ROC_AUC Score :  97.02%\n"
     ]
    },
    {
     "data": {
      "image/png": "[encoded data removed]",
      "text/plain": [
       "<Figure size 432x288 with 1 Axes>"
      ]
     },
     "metadata": {
      "needs_background": "light"
     },
     "output_type": "display_data"
    },
    {
     "name": "stdout",
     "output_type": "stream",
     "text": [
      "              precision    recall  f1-score   support\n",
      "\n",
      "           0       1.00      0.99      0.99     15979\n",
      "           1       0.09      0.95      0.17        21\n",
      "\n",
      "    accuracy                           0.99     16000\n",
      "   macro avg       0.55      0.97      0.58     16000\n",
      "weighted avg       1.00      0.99      0.99     16000\n",
      "\n"
     ]
    },
    {
     "data": {
      "image/png": "[encoded data removed]",
      "text/plain": [
       "<Figure size 432x288 with 2 Axes>"
      ]
     },
     "metadata": {
      "needs_background": "light"
     },
     "output_type": "display_data"
    }
   ],
   "source": [
    "# Test tuned_model with refined paramaters on the test set\n",
    "\n",
    "classifier_rf_tuned = RandomForestClassifier(max_depth=2, n_estimators=75, random_state=42, n_jobs=-1)\n",
    "\n",
    "model(classifier_rf_tuned, X_train, y_train, X_test, y_test)\n",
    "model_evaluation(classifier_rf_tuned, X_test, y_test)"
   ]
  }
 ],
 "metadata": {
  "kernelspec": {
   "display_name": "Python 3 (ipykernel)",
   "language": "python",
   "name": "python3"
  },
  "language_info": {
   "codemirror_mode": {
    "name": "ipython",
    "version": 3
   },
   "file_extension": ".py",
   "mimetype": "text/x-python",
   "name": "python",
   "nbconvert_exporter": "python",
   "pygments_lexer": "ipython3",
   "version": "3.8.5"
  }
 },
 "nbformat": 4,
 "nbformat_minor": 2
}
