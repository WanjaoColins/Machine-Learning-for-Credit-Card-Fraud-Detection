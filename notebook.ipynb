{
 "cells": [
  {
   "cell_type": "markdown",
   "metadata": {},
   "source": [
    "![Image header](Fraud%20Image.png)"
   ]
  },
  {
   "cell_type": "markdown",
   "metadata": {},
   "source": [
    "**Authors:** Janet Atunga, Colins Wanjao, Anita Bosibori, Ruth Kamau, Bernard Kinyua, Joyleen Cherono\n",
    "\n",
    "**Date Created:** 06-02-2024\n",
    "\n",
    "**Discipline:** DS-PT05"
   ]
  },
  {
   "cell_type": "markdown",
   "metadata": {},
   "source": [
    "<h1 style=\"background-color: #cfe2f3; padding: 10px; color: black;\"><b>Leveraging Machine Learning For Credit Card Fraud Detection</b></h1>"
   ]
  },
  {
   "cell_type": "markdown",
   "metadata": {},
   "source": [
    "## Executive Summary"
   ]
  },
  {
   "cell_type": "markdown",
   "metadata": {},
   "source": [
    "## Business Problem"
   ]
  },
  {
   "cell_type": "markdown",
   "metadata": {},
   "source": [
    "## Data Understanding"
   ]
  },
  {
   "cell_type": "code",
   "execution_count": 21,
   "metadata": {},
   "outputs": [],
   "source": [
    "# Import Standard Libraries\n",
    "\n",
    "import pandas as pd \n",
    "import numpy as np \n",
    "import matplotlib.pyplot as plt \n",
    "%matplotlib inline\n",
    "import seaborn as sns\n",
    "\n",
    "\n",
    "# Import classifier libraries\n",
    "\n",
    "from sklearn.linear_model import LogisticRegression\n",
    "from sklearn.neighbors import KNeighborsClassifier\n",
    "from sklearn.tree import DecisionTreeClassifier\n",
    "from sklearn.ensemble import RandomForestClassifier\n",
    "\n",
    "\n",
    "# Other libraries\n",
    "\n",
    "from sklearn.model_selection import train_test_split\n",
    "import warnings\n",
    "warnings.filterwarnings(\"ignore\")\n",
    "\n"
   ]
  },
  {
   "cell_type": "markdown",
   "metadata": {},
   "source": [
    "### Loading and Inspecting Data Set"
   ]
  },
  {
   "cell_type": "code",
   "execution_count": 30,
   "metadata": {},
   "outputs": [],
   "source": [
    "df = pd.read_csv('creditcardFraud.csv', index_col=0)"
   ]
  },
  {
   "cell_type": "code",
   "execution_count": 31,
   "metadata": {},
   "outputs": [
    {
     "data": {
      "text/html": [
       "<div>\n",
       "<style scoped>\n",
       "    .dataframe tbody tr th:only-of-type {\n",
       "        vertical-align: middle;\n",
       "    }\n",
       "\n",
       "    .dataframe tbody tr th {\n",
       "        vertical-align: top;\n",
       "    }\n",
       "\n",
       "    .dataframe thead th {\n",
       "        text-align: right;\n",
       "    }\n",
       "</style>\n",
       "<table border=\"1\" class=\"dataframe\">\n",
       "  <thead>\n",
       "    <tr style=\"text-align: right;\">\n",
       "      <th></th>\n",
       "      <th>Time</th>\n",
       "      <th>V1</th>\n",
       "      <th>V2</th>\n",
       "      <th>V3</th>\n",
       "      <th>V4</th>\n",
       "      <th>V5</th>\n",
       "      <th>V6</th>\n",
       "      <th>V7</th>\n",
       "      <th>V8</th>\n",
       "      <th>V9</th>\n",
       "      <th>...</th>\n",
       "      <th>V21</th>\n",
       "      <th>V22</th>\n",
       "      <th>V23</th>\n",
       "      <th>V24</th>\n",
       "      <th>V25</th>\n",
       "      <th>V26</th>\n",
       "      <th>V27</th>\n",
       "      <th>V28</th>\n",
       "      <th>Amount</th>\n",
       "      <th>Class</th>\n",
       "    </tr>\n",
       "  </thead>\n",
       "  <tbody>\n",
       "    <tr>\n",
       "      <th>60980</th>\n",
       "      <td>49591.0</td>\n",
       "      <td>-1.078058</td>\n",
       "      <td>0.472978</td>\n",
       "      <td>0.872587</td>\n",
       "      <td>-1.693499</td>\n",
       "      <td>-0.473819</td>\n",
       "      <td>-1.394841</td>\n",
       "      <td>0.390493</td>\n",
       "      <td>0.208516</td>\n",
       "      <td>-1.746987</td>\n",
       "      <td>...</td>\n",
       "      <td>-0.077302</td>\n",
       "      <td>-0.601560</td>\n",
       "      <td>0.095988</td>\n",
       "      <td>0.334340</td>\n",
       "      <td>0.093190</td>\n",
       "      <td>-0.666101</td>\n",
       "      <td>0.158345</td>\n",
       "      <td>0.063077</td>\n",
       "      <td>56.0</td>\n",
       "      <td>0</td>\n",
       "    </tr>\n",
       "    <tr>\n",
       "      <th>259679</th>\n",
       "      <td>159224.0</td>\n",
       "      <td>0.140654</td>\n",
       "      <td>0.614854</td>\n",
       "      <td>-0.811093</td>\n",
       "      <td>0.210524</td>\n",
       "      <td>1.090949</td>\n",
       "      <td>-1.436960</td>\n",
       "      <td>1.488835</td>\n",
       "      <td>-0.521849</td>\n",
       "      <td>-0.448717</td>\n",
       "      <td>...</td>\n",
       "      <td>0.364569</td>\n",
       "      <td>1.180486</td>\n",
       "      <td>-0.027099</td>\n",
       "      <td>0.042148</td>\n",
       "      <td>-0.693194</td>\n",
       "      <td>-0.117583</td>\n",
       "      <td>0.242936</td>\n",
       "      <td>0.270430</td>\n",
       "      <td>49.0</td>\n",
       "      <td>0</td>\n",
       "    </tr>\n",
       "    <tr>\n",
       "      <th>102727</th>\n",
       "      <td>68332.0</td>\n",
       "      <td>1.492525</td>\n",
       "      <td>-0.937371</td>\n",
       "      <td>0.733062</td>\n",
       "      <td>-1.341682</td>\n",
       "      <td>-1.638440</td>\n",
       "      <td>-0.891609</td>\n",
       "      <td>-1.008324</td>\n",
       "      <td>-0.229074</td>\n",
       "      <td>-1.878821</td>\n",
       "      <td>...</td>\n",
       "      <td>-0.355095</td>\n",
       "      <td>-0.638729</td>\n",
       "      <td>0.164058</td>\n",
       "      <td>0.365213</td>\n",
       "      <td>0.160463</td>\n",
       "      <td>-0.414044</td>\n",
       "      <td>0.047972</td>\n",
       "      <td>0.032811</td>\n",
       "      <td>18.6</td>\n",
       "      <td>0</td>\n",
       "    </tr>\n",
       "    <tr>\n",
       "      <th>239078</th>\n",
       "      <td>149947.0</td>\n",
       "      <td>-0.239639</td>\n",
       "      <td>1.464496</td>\n",
       "      <td>-1.486780</td>\n",
       "      <td>-0.021256</td>\n",
       "      <td>-0.058483</td>\n",
       "      <td>-1.380374</td>\n",
       "      <td>0.262271</td>\n",
       "      <td>0.503499</td>\n",
       "      <td>-0.224797</td>\n",
       "      <td>...</td>\n",
       "      <td>0.371395</td>\n",
       "      <td>0.894852</td>\n",
       "      <td>-0.052035</td>\n",
       "      <td>-0.185209</td>\n",
       "      <td>-0.244038</td>\n",
       "      <td>-0.152268</td>\n",
       "      <td>-0.322308</td>\n",
       "      <td>-0.117872</td>\n",
       "      <td>22.5</td>\n",
       "      <td>0</td>\n",
       "    </tr>\n",
       "    <tr>\n",
       "      <th>152955</th>\n",
       "      <td>97655.0</td>\n",
       "      <td>2.067000</td>\n",
       "      <td>0.396577</td>\n",
       "      <td>-2.528664</td>\n",
       "      <td>0.231966</td>\n",
       "      <td>1.029264</td>\n",
       "      <td>-1.260592</td>\n",
       "      <td>0.644661</td>\n",
       "      <td>-0.469112</td>\n",
       "      <td>1.178047</td>\n",
       "      <td>...</td>\n",
       "      <td>-0.015175</td>\n",
       "      <td>0.257566</td>\n",
       "      <td>-0.031586</td>\n",
       "      <td>0.653762</td>\n",
       "      <td>0.392559</td>\n",
       "      <td>0.145512</td>\n",
       "      <td>-0.109600</td>\n",
       "      <td>-0.058973</td>\n",
       "      <td>16.0</td>\n",
       "      <td>0</td>\n",
       "    </tr>\n",
       "  </tbody>\n",
       "</table>\n",
       "<p>5 rows × 31 columns</p>\n",
       "</div>"
      ],
      "text/plain": [
       "            Time        V1        V2        V3        V4        V5        V6  \\\n",
       "60980    49591.0 -1.078058  0.472978  0.872587 -1.693499 -0.473819 -1.394841   \n",
       "259679  159224.0  0.140654  0.614854 -0.811093  0.210524  1.090949 -1.436960   \n",
       "102727   68332.0  1.492525 -0.937371  0.733062 -1.341682 -1.638440 -0.891609   \n",
       "239078  149947.0 -0.239639  1.464496 -1.486780 -0.021256 -0.058483 -1.380374   \n",
       "152955   97655.0  2.067000  0.396577 -2.528664  0.231966  1.029264 -1.260592   \n",
       "\n",
       "              V7        V8        V9  ...       V21       V22       V23  \\\n",
       "60980   0.390493  0.208516 -1.746987  ... -0.077302 -0.601560  0.095988   \n",
       "259679  1.488835 -0.521849 -0.448717  ...  0.364569  1.180486 -0.027099   \n",
       "102727 -1.008324 -0.229074 -1.878821  ... -0.355095 -0.638729  0.164058   \n",
       "239078  0.262271  0.503499 -0.224797  ...  0.371395  0.894852 -0.052035   \n",
       "152955  0.644661 -0.469112  1.178047  ... -0.015175  0.257566 -0.031586   \n",
       "\n",
       "             V24       V25       V26       V27       V28  Amount  Class  \n",
       "60980   0.334340  0.093190 -0.666101  0.158345  0.063077    56.0      0  \n",
       "259679  0.042148 -0.693194 -0.117583  0.242936  0.270430    49.0      0  \n",
       "102727  0.365213  0.160463 -0.414044  0.047972  0.032811    18.6      0  \n",
       "239078 -0.185209 -0.244038 -0.152268 -0.322308 -0.117872    22.5      0  \n",
       "152955  0.653762  0.392559  0.145512 -0.109600 -0.058973    16.0      0  \n",
       "\n",
       "[5 rows x 31 columns]"
      ]
     },
     "execution_count": 31,
     "metadata": {},
     "output_type": "execute_result"
    }
   ],
   "source": [
    "# Previewing the dataset\n",
    "\n",
    "df.head(5)"
   ]
  },
  {
   "cell_type": "code",
   "execution_count": 19,
   "metadata": {},
   "outputs": [
    {
     "name": "stdout",
     "output_type": "stream",
     "text": [
      "<class 'pandas.core.frame.DataFrame'>\n",
      "Int64Index: 80000 entries, 60980 to 271634\n",
      "Data columns (total 31 columns):\n",
      " #   Column  Non-Null Count  Dtype  \n",
      "---  ------  --------------  -----  \n",
      " 0   Time    80000 non-null  float64\n",
      " 1   V1      80000 non-null  float64\n",
      " 2   V2      80000 non-null  float64\n",
      " 3   V3      80000 non-null  float64\n",
      " 4   V4      80000 non-null  float64\n",
      " 5   V5      80000 non-null  float64\n",
      " 6   V6      80000 non-null  float64\n",
      " 7   V7      80000 non-null  float64\n",
      " 8   V8      80000 non-null  float64\n",
      " 9   V9      80000 non-null  float64\n",
      " 10  V10     80000 non-null  float64\n",
      " 11  V11     80000 non-null  float64\n",
      " 12  V12     80000 non-null  float64\n",
      " 13  V13     80000 non-null  float64\n",
      " 14  V14     80000 non-null  float64\n",
      " 15  V15     80000 non-null  float64\n",
      " 16  V16     80000 non-null  float64\n",
      " 17  V17     80000 non-null  float64\n",
      " 18  V18     80000 non-null  float64\n",
      " 19  V19     80000 non-null  float64\n",
      " 20  V20     80000 non-null  float64\n",
      " 21  V21     80000 non-null  float64\n",
      " 22  V22     80000 non-null  float64\n",
      " 23  V23     80000 non-null  float64\n",
      " 24  V24     80000 non-null  float64\n",
      " 25  V25     80000 non-null  float64\n",
      " 26  V26     80000 non-null  float64\n",
      " 27  V27     80000 non-null  float64\n",
      " 28  V28     80000 non-null  float64\n",
      " 29  Amount  80000 non-null  float64\n",
      " 30  Class   80000 non-null  int64  \n",
      "dtypes: float64(30), int64(1)\n",
      "memory usage: 19.5 MB\n"
     ]
    }
   ],
   "source": [
    "df.info()"
   ]
  },
  {
   "cell_type": "code",
   "execution_count": 20,
   "metadata": {},
   "outputs": [
    {
     "data": {
      "text/plain": [
       "Index(['Time', 'V1', 'V2', 'V3', 'V4', 'V5', 'V6', 'V7', 'V8', 'V9', 'V10',\n",
       "       'V11', 'V12', 'V13', 'V14', 'V15', 'V16', 'V17', 'V18', 'V19', 'V20',\n",
       "       'V21', 'V22', 'V23', 'V24', 'V25', 'V26', 'V27', 'V28', 'Amount',\n",
       "       'Class'],\n",
       "      dtype='object')"
      ]
     },
     "execution_count": 20,
     "metadata": {},
     "output_type": "execute_result"
    }
   ],
   "source": [
    "df.columns"
   ]
  },
  {
   "cell_type": "code",
   "execution_count": null,
   "metadata": {},
   "outputs": [],
   "source": []
  },
  {
   "cell_type": "code",
   "execution_count": 52,
   "metadata": {},
   "outputs": [
    {
     "name": "stdout",
     "output_type": "stream",
     "text": [
      "Non-Fraudulent Transactions: 79,881 (99.85%)\n",
      "Fraudulent Transactions: 119 (0.15%)\n"
     ]
    }
   ],
   "source": [
    "# Count and normalize non-fraudulent transactions\n",
    "non_fraud_count = df['Class'].value_counts()[0]\n",
    "non_fraud_percentage = df['Class'].value_counts(normalize=True)[0]\n",
    "\n",
    "# Count and normalize fraudulent transactions\n",
    "fraud_count = df['Class'].value_counts()[1]\n",
    "fraud_percentage = df['Class'].value_counts(normalize=True)[1]\n",
    "\n",
    "# Render the results\n",
    "print(\"Non-Fraudulent Transactions: {:,} ({:.2%})\".format(non_fraud_count, non_fraud_percentage))\n",
    "print(\"Fraudulent Transactions: {:,} ({:.2%})\".format(fraud_count, fraud_percentage))\n"
   ]
  },
  {
   "cell_type": "markdown",
   "metadata": {},
   "source": []
  },
  {
   "cell_type": "code",
   "execution_count": 56,
   "metadata": {},
   "outputs": [
    {
     "data": {
      "image/png": "[encoded data removed]",
      "text/plain": [
       "<Figure size 864x432 with 2 Axes>"
      ]
     },
     "metadata": {
      "needs_background": "light"
     },
     "output_type": "display_data"
    }
   ],
   "source": [
    "\n",
    "# custom colors for the plot\n",
    "colors = ['#FFFF00', '#000000']\n",
    "\n",
    "# Create subplots with two plots side by side\n",
    "fig, axs = plt.subplots(1, 2, figsize=(12, 6))\n",
    "\n",
    "# Plot countplot\n",
    "sns.countplot('Class', data=df, palette=colors, ax=axs[0])\n",
    "axs[0].set_title('Class Distribution (Countplot)')\n",
    "\n",
    "# Plot pie chart\n",
    "class_counts = df['Class'].value_counts()\n",
    "axs[1].pie(class_counts, labels=class_counts.index, autopct='%1.2f%%', colors=colors, startangle=90)\n",
    "axs[1].set_title('Class Distribution (Pie Chart)')\n",
    "\n",
    "plt.tight_layout()\n",
    "plt.show()\n"
   ]
  },
  {
   "cell_type": "code",
   "execution_count": 32,
   "metadata": {},
   "outputs": [
    {
     "data": {
      "text/plain": [
       "(1.0, 172792.0)"
      ]
     },
     "execution_count": 32,
     "metadata": {},
     "output_type": "execute_result"
    },
    {
     "data": {
      "image/png": "[encoded data removed]",
      "text/plain": [
       "<Figure size 1296x288 with 2 Axes>"
      ]
     },
     "metadata": {
      "needs_background": "light"
     },
     "output_type": "display_data"
    }
   ],
   "source": [
    "fig, ax = plt.subplots(1, 2, figsize=(18,4))\n",
    "\n",
    "amount_val = df['Amount'].values\n",
    "time_val = df['Time'].values\n",
    "\n",
    "sns.distplot(amount_val, ax=ax[0], color='r')\n",
    "ax[0].set_title('Distribution of Transaction Amount', fontsize=14)\n",
    "ax[0].set_xlim([min(amount_val), max(amount_val)])\n",
    "\n",
    "sns.distplot(time_val, ax=ax[1], color='b')\n",
    "ax[1].set_title('Distribution of Transaction Time', fontsize=14)\n",
    "ax[1].set_xlim([min(time_val), max(time_val)])"
   ]
  },
  {
   "cell_type": "markdown",
   "metadata": {},
   "source": [
    "## Feature Selection"
   ]
  },
  {
   "cell_type": "markdown",
   "metadata": {},
   "source": [
    "### `ANOVA TEST (using Sklearn Library)`"
   ]
  },
  {
   "cell_type": "code",
   "execution_count": 48,
   "metadata": {},
   "outputs": [
    {
     "name": "stdout",
     "output_type": "stream",
     "text": [
      "Selected Features: Index(['V1', 'V3', 'V4', 'V7', 'V10', 'V11', 'V12', 'V14', 'V16', 'V17'], dtype='object')\n"
     ]
    }
   ],
   "source": [
    "from sklearn.feature_selection import SelectKBest, f_classif\n",
    "\n",
    "# Separate features (X) and target variable (y)\n",
    "X = df.drop(columns=['Class'])  # Features\n",
    "y = df['Class']  # Target variable\n",
    "\n",
    "# Initialize SelectKBest with f_classif scoring function\n",
    "selector = SelectKBest(score_func=f_classif)\n",
    "\n",
    "# Fit selector to the data\n",
    "selector.fit(X, y)\n",
    "\n",
    "# Get selected features\n",
    "selected_features = X.columns[selector.get_support()]\n",
    "\n",
    "# Print selected features\n",
    "print(\"Selected Features:\", selected_features)\n"
   ]
  },
  {
   "cell_type": "markdown",
   "metadata": {},
   "source": []
  }
 ],
 "metadata": {
  "kernelspec": {
   "display_name": "learn-env",
   "language": "python",
   "name": "python3"
  },
  "language_info": {
   "codemirror_mode": {
    "name": "ipython",
    "version": 3
   },
   "file_extension": ".py",
   "mimetype": "text/x-python",
   "name": "python",
   "nbconvert_exporter": "python",
   "pygments_lexer": "ipython3",
   "version": "3.8.5"
  }
 },
 "nbformat": 4,
 "nbformat_minor": 2
}
